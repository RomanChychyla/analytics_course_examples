{
 "cells": [
  {
   "cell_type": "markdown",
   "metadata": {},
   "source": [
    "### ACC 628 (Introduction to Accounting Analytics)\n",
    "\n",
    "## Lending Club Python Example; Data Analytics for Accounting, Chapter 1"
   ]
  },
  {
   "cell_type": "code",
   "execution_count": null,
   "metadata": {},
   "outputs": [],
   "source": [
    "# import Pandas data library into Python\n",
    "# Pandas library contains a number of useful tools to work with tabular data\n",
    "import pandas as pd"
   ]
  },
  {
   "cell_type": "code",
   "execution_count": null,
   "metadata": {},
   "outputs": [],
   "source": [
    "# file path to the input file with data\n",
    "# text values are enclosed in quotes (or double quotes)\n",
    "input_file = 'RejectStats_NoMissingData.csv'"
   ]
  },
  {
   "cell_type": "code",
   "execution_count": null,
   "metadata": {},
   "outputs": [],
   "source": [
    "# read the contents of the csv file into Pandas dataframe (table)\n",
    "df = pd.read_csv(input_file, low_memory = False)\n",
    "# if reading an excel file, change to \n",
    "# df = pd.read_excel(input_file)"
   ]
  },
  {
   "cell_type": "code",
   "execution_count": null,
   "metadata": {},
   "outputs": [],
   "source": [
    "# describe the variables of the dataframe\n",
    "df.info()"
   ]
  },
  {
   "cell_type": "code",
   "execution_count": null,
   "metadata": {},
   "outputs": [],
   "source": [
    "# show the first five rows of the dataframe\n",
    "df.head(5)"
   ]
  },
  {
   "cell_type": "code",
   "execution_count": null,
   "metadata": {},
   "outputs": [],
   "source": [
    "# display observation count statistics by DTI Bucket\n",
    "df['DTI Bucket'].value_counts()"
   ]
  },
  {
   "cell_type": "code",
   "execution_count": null,
   "metadata": {},
   "outputs": [],
   "source": [
    "# display observation count statistics by DTI Bucket\n",
    "df.groupby('DTI Bucket').agg({'Rejected Loans':'count'})"
   ]
  },
  {
   "cell_type": "code",
   "execution_count": null,
   "metadata": {},
   "outputs": [],
   "source": [
    "# display observation count statistics by Employment Length\n",
    "df['Employment Length'].value_counts()"
   ]
  },
  {
   "cell_type": "code",
   "execution_count": null,
   "metadata": {},
   "outputs": [],
   "source": [
    "# display observation count statistics by Risk Score\n",
    "df['Risk Score Bucket'].value_counts()"
   ]
  },
  {
   "cell_type": "code",
   "execution_count": null,
   "metadata": {},
   "outputs": [],
   "source": [
    "# for each value of Risk Score Bucket, display the average Debt-to-Income ratio\n",
    "df.groupby(['Risk Score Bucket'])['Debt-To-Income Ratio'].mean()"
   ]
  },
  {
   "cell_type": "code",
   "execution_count": null,
   "metadata": {},
   "outputs": [],
   "source": [
    "# alternative syntax\n",
    "df.groupby(['Risk Score Bucket']).agg({'Debt-To-Income Ratio':'mean'})"
   ]
  },
  {
   "cell_type": "code",
   "execution_count": null,
   "metadata": {},
   "outputs": [],
   "source": [
    "# FOR INTERACTION (ALL POSSIBLE PAIRS) OF DTI BUCKET AND EMPLOYMENT LENGTH, DISPLAY COUNT STATISTICS\n",
    "df.groupby(['DTI Bucket','Employment Length']).size()"
   ]
  },
  {
   "cell_type": "code",
   "execution_count": null,
   "metadata": {},
   "outputs": [],
   "source": [
    "# alternative syntax\n",
    "df.groupby(['DTI Bucket','Employment Length']).agg({'Rejected Loans':'count'})"
   ]
  },
  {
   "cell_type": "code",
   "execution_count": null,
   "metadata": {},
   "outputs": [],
   "source": [
    "# DISPLAY COUNT STATISTICS FOR INTERACTION OF DTI BUCKET, RISK SCORE BUCKET, AND EMPLOYMENT LENGT \n",
    "\n",
    "# uncomment the below line to show all rows\n",
    "# pd.set_option('display.max_rows', None)\n",
    "df.groupby(['DTI Bucket','Risk Score Bucket','Employment Length']).agg({'Rejected Loans':'count'})"
   ]
  },
  {
   "cell_type": "markdown",
   "metadata": {},
   "source": [
    "### Example of unstructured (text) data analysis"
   ]
  },
  {
   "cell_type": "code",
   "execution_count": null,
   "metadata": {},
   "outputs": [],
   "source": [
    "# SHOW TEN MOST COMMON TITLES OF REJECTED OF LOANS\n",
    "\n",
    "# convert loan titles to lowercase )so that \"home_improvement\" is equivalent to \"Home_Improvement\".\n",
    "df['Loan Title'] = df['Loan Title'].str.lower()"
   ]
  },
  {
   "cell_type": "code",
   "execution_count": null,
   "metadata": {},
   "outputs": [],
   "source": [
    "# first, for each loan title values, calculate number of observations\n",
    "# second, display ten loan titles with the highest observation counts\n",
    "df['Loan Title'].value_counts().nlargest(10)"
   ]
  }
 ],
 "metadata": {
  "kernelspec": {
   "display_name": "Python 3 (ipykernel)",
   "language": "python",
   "name": "python3"
  },
  "language_info": {
   "codemirror_mode": {
    "name": "ipython",
    "version": 3
   },
   "file_extension": ".py",
   "mimetype": "text/x-python",
   "name": "python",
   "nbconvert_exporter": "python",
   "pygments_lexer": "ipython3",
   "version": "3.9.16"
  }
 },
 "nbformat": 4,
 "nbformat_minor": 4
}
